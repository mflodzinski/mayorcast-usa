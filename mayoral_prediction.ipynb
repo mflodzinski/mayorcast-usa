{
 "cells": [
  {
   "cell_type": "code",
   "execution_count": null,
   "metadata": {},
   "outputs": [],
   "source": [
    "import pandas as pd"
   ]
  },
  {
   "cell_type": "markdown",
   "metadata": {},
   "source": [
    "### Columns encoding"
   ]
  },
  {
   "cell_type": "code",
   "execution_count": null,
   "metadata": {},
   "outputs": [],
   "source": [
    "df_mayor = pd.read_csv('data/data_mayoral.csv')"
   ]
  },
  {
   "cell_type": "code",
   "execution_count": null,
   "metadata": {},
   "outputs": [],
   "source": [
    "# Gender encoding\n",
    "df_mayor['gender_est_rep'] = df_mayor['gender_est_rep'].map({'M': 1, 'F': 0})\n",
    "df_mayor['gender_est_dem'] = df_mayor['gender_est_dem'].map({'M': 1, 'F': 0})"
   ]
  },
  {
   "cell_type": "code",
   "execution_count": null,
   "metadata": {},
   "outputs": [],
   "source": [
    "# State encoding\n",
    "state_categories_df = pd.read_csv('data/state_categories.csv')\n",
    "\n",
    "# Merge with df_mayor\n",
    "df_mayor = df_mayor.merge(state_categories_df, on='state_abb', how=\"left\")\n",
    "df_mayor.rename(columns={\"category\": \"state_category\"}, inplace=True)\n",
    "df_mayor.drop(columns=[\"state_abb\"], inplace=True)\n",
    "\n",
    "# Convert 'state_category' to one-hot encoding\n",
    "df_mayor = pd.get_dummies(df_mayor, columns=['state_category'], prefix='state_category')\n",
    "for col in df_mayor.filter(like='state_category').columns:\n",
    "    df_mayor[col] = df_mayor[col].astype(int)"
   ]
  }
 ],
 "metadata": {
  "kernelspec": {
   "display_name": "ml_env",
   "language": "python",
   "name": "python3"
  },
  "language_info": {
   "name": "python",
   "version": "3.10.13"
  }
 },
 "nbformat": 4,
 "nbformat_minor": 2
}
